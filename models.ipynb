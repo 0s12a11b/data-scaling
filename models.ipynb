{
 "cells": [
  {
   "cell_type": "markdown",
   "id": "2eb1104d-9185-4ad3-a508-fc19495284dd",
   "metadata": {
    "tags": []
   },
   "source": [
    "## **Data preparation**"
   ]
  },
  {
   "cell_type": "code",
   "execution_count": 1,
   "id": "28bc54fa-ed12-432f-b1e7-622a607f2af7",
   "metadata": {},
   "outputs": [
    {
     "data": {
      "text/html": [
       "<div>\n",
       "<style scoped>\n",
       "    .dataframe tbody tr th:only-of-type {\n",
       "        vertical-align: middle;\n",
       "    }\n",
       "\n",
       "    .dataframe tbody tr th {\n",
       "        vertical-align: top;\n",
       "    }\n",
       "\n",
       "    .dataframe thead th {\n",
       "        text-align: right;\n",
       "    }\n",
       "</style>\n",
       "<table border=\"1\" class=\"dataframe\">\n",
       "  <thead>\n",
       "    <tr style=\"text-align: right;\">\n",
       "      <th></th>\n",
       "      <th>MedInc</th>\n",
       "      <th>HouseAge</th>\n",
       "      <th>AveRooms</th>\n",
       "      <th>AveBedrms</th>\n",
       "      <th>Population</th>\n",
       "      <th>AveOccup</th>\n",
       "      <th>Latitude</th>\n",
       "      <th>Longitude</th>\n",
       "    </tr>\n",
       "  </thead>\n",
       "  <tbody>\n",
       "    <tr>\n",
       "      <th>0</th>\n",
       "      <td>8.3252</td>\n",
       "      <td>41.0</td>\n",
       "      <td>6.984127</td>\n",
       "      <td>1.023810</td>\n",
       "      <td>322.0</td>\n",
       "      <td>2.555556</td>\n",
       "      <td>37.88</td>\n",
       "      <td>-122.23</td>\n",
       "    </tr>\n",
       "    <tr>\n",
       "      <th>1</th>\n",
       "      <td>8.3014</td>\n",
       "      <td>21.0</td>\n",
       "      <td>6.238137</td>\n",
       "      <td>0.971880</td>\n",
       "      <td>2401.0</td>\n",
       "      <td>2.109842</td>\n",
       "      <td>37.86</td>\n",
       "      <td>-122.22</td>\n",
       "    </tr>\n",
       "    <tr>\n",
       "      <th>2</th>\n",
       "      <td>7.2574</td>\n",
       "      <td>52.0</td>\n",
       "      <td>8.288136</td>\n",
       "      <td>1.073446</td>\n",
       "      <td>496.0</td>\n",
       "      <td>2.802260</td>\n",
       "      <td>37.85</td>\n",
       "      <td>-122.24</td>\n",
       "    </tr>\n",
       "    <tr>\n",
       "      <th>3</th>\n",
       "      <td>5.6431</td>\n",
       "      <td>52.0</td>\n",
       "      <td>5.817352</td>\n",
       "      <td>1.073059</td>\n",
       "      <td>558.0</td>\n",
       "      <td>2.547945</td>\n",
       "      <td>37.85</td>\n",
       "      <td>-122.25</td>\n",
       "    </tr>\n",
       "    <tr>\n",
       "      <th>4</th>\n",
       "      <td>3.8462</td>\n",
       "      <td>52.0</td>\n",
       "      <td>6.281853</td>\n",
       "      <td>1.081081</td>\n",
       "      <td>565.0</td>\n",
       "      <td>2.181467</td>\n",
       "      <td>37.85</td>\n",
       "      <td>-122.25</td>\n",
       "    </tr>\n",
       "  </tbody>\n",
       "</table>\n",
       "</div>"
      ],
      "text/plain": [
       "   MedInc  HouseAge  AveRooms  AveBedrms  Population  AveOccup  Latitude   \n",
       "0  8.3252      41.0  6.984127   1.023810       322.0  2.555556     37.88  \\\n",
       "1  8.3014      21.0  6.238137   0.971880      2401.0  2.109842     37.86   \n",
       "2  7.2574      52.0  8.288136   1.073446       496.0  2.802260     37.85   \n",
       "3  5.6431      52.0  5.817352   1.073059       558.0  2.547945     37.85   \n",
       "4  3.8462      52.0  6.281853   1.081081       565.0  2.181467     37.85   \n",
       "\n",
       "   Longitude  \n",
       "0    -122.23  \n",
       "1    -122.22  \n",
       "2    -122.24  \n",
       "3    -122.25  \n",
       "4    -122.25  "
      ]
     },
     "execution_count": 1,
     "metadata": {},
     "output_type": "execute_result"
    }
   ],
   "source": [
    "import pandas as pd\n",
    "from sklearn.datasets import fetch_california_housing\n",
    "\n",
    "data = fetch_california_housing()\n",
    "X = pd.DataFrame(data['data'], columns=data['feature_names'])\n",
    "y = data['target']\n",
    "\n",
    "X.head()"
   ]
  },
  {
   "cell_type": "code",
   "execution_count": 2,
   "id": "cb337395-1e3a-48fd-8506-e5316caa04e5",
   "metadata": {
    "tags": []
   },
   "outputs": [
    {
     "name": "stdout",
     "output_type": "stream",
     "text": [
      "Train shape: (16512, 8)\n",
      "Test shape: (4128, 8)\n"
     ]
    }
   ],
   "source": [
    "from sklearn.model_selection import train_test_split\n",
    "\n",
    "X_train, X_test, y_train, y_test = train_test_split(X, y, random_state=30, test_size=0.2)\n",
    "print(f\"Train shape: {X_train.shape}\", \n",
    "      f\"Test shape: {X_test.shape}\", sep=\"\\n\")"
   ]
  },
  {
   "cell_type": "markdown",
   "id": "3acd9d29-97c3-47d2-896d-f2eb351e82ee",
   "metadata": {
    "tags": []
   },
   "source": [
    "## **Data without scaling**"
   ]
  },
  {
   "cell_type": "markdown",
   "id": "0c4b5010-c510-459a-a91f-6f959f504040",
   "metadata": {
    "tags": []
   },
   "source": [
    "### **KNNRegessor**"
   ]
  },
  {
   "cell_type": "code",
   "execution_count": 3,
   "id": "772d56ef-3119-4d33-ba1c-5d4be20aa583",
   "metadata": {
    "tags": []
   },
   "outputs": [],
   "source": [
    "from sklearn.neighbors import KNeighborsRegressor\n",
    "\n",
    "knn = KNeighborsRegressor()"
   ]
  },
  {
   "cell_type": "code",
   "execution_count": 4,
   "id": "d1b91d24-df82-48e5-9599-047c7fa94d3a",
   "metadata": {
    "tags": []
   },
   "outputs": [],
   "source": [
    "knn.fit(X_train, y_train);"
   ]
  },
  {
   "cell_type": "code",
   "execution_count": 5,
   "id": "b2af2062-ccf1-4774-a0a9-624443daa18c",
   "metadata": {
    "tags": []
   },
   "outputs": [
    {
     "name": "stdout",
     "output_type": "stream",
     "text": [
      "Train R2: 0.455\n",
      "Test R2: 0.139\n"
     ]
    }
   ],
   "source": [
    "from sklearn.metrics import r2_score\n",
    "\n",
    "pred_train = knn.predict(X_train)\n",
    "pred_test = knn.predict(X_test)\n",
    "\n",
    "print(f\"Train R2: {r2_score(y_train, pred_train):.3f}\", \n",
    "      f\"Test R2: {r2_score(y_test, pred_test):.3f}\", sep=\"\\n\")"
   ]
  },
  {
   "cell_type": "markdown",
   "id": "60b33e5a-72f9-4d10-8d0b-eb7059c6ea4c",
   "metadata": {},
   "source": [
    "### **Linear regression**"
   ]
  },
  {
   "cell_type": "code",
   "execution_count": 6,
   "id": "0d8b5ccd-27e2-43e9-9406-ab0937dd7c5e",
   "metadata": {
    "tags": []
   },
   "outputs": [],
   "source": [
    "from sklearn.linear_model import LinearRegression\n",
    "\n",
    "lr = LinearRegression()"
   ]
  },
  {
   "cell_type": "code",
   "execution_count": 7,
   "id": "1175e187-92af-423e-9a83-fef5bba8d3e8",
   "metadata": {
    "tags": []
   },
   "outputs": [],
   "source": [
    "lr.fit(X_train, y_train);"
   ]
  },
  {
   "cell_type": "code",
   "execution_count": 8,
   "id": "acb810b3-0201-47f3-833c-ec5308d49c34",
   "metadata": {
    "tags": []
   },
   "outputs": [
    {
     "name": "stdout",
     "output_type": "stream",
     "text": [
      "Train R2: 0.611\n",
      "Test R2: 0.588\n"
     ]
    }
   ],
   "source": [
    "pred_train = lr.predict(X_train)\n",
    "pred_test = lr.predict(X_test)\n",
    "\n",
    "print(f\"Train R2: {r2_score(y_train, pred_train):.3f}\", \n",
    "      f\"Test R2: {r2_score(y_test, pred_test):.3f}\", sep=\"\\n\")"
   ]
  },
  {
   "cell_type": "markdown",
   "id": "94c3498d-f18a-415f-9574-73ed7edfa550",
   "metadata": {},
   "source": [
    "### **Decision tree regressor**"
   ]
  },
  {
   "cell_type": "code",
   "execution_count": 9,
   "id": "18e5e40d-d98c-43eb-955d-7fb03a78cb46",
   "metadata": {
    "tags": []
   },
   "outputs": [],
   "source": [
    "from sklearn.tree import DecisionTreeRegressor\n",
    "\n",
    "tree = DecisionTreeRegressor(random_state=30, max_depth=9)"
   ]
  },
  {
   "cell_type": "code",
   "execution_count": 10,
   "id": "02b33c80-3876-4f2c-b1f3-a73dc4e0a1d9",
   "metadata": {
    "tags": []
   },
   "outputs": [],
   "source": [
    "tree.fit(X_train, y_train);"
   ]
  },
  {
   "cell_type": "code",
   "execution_count": 11,
   "id": "0664d16c-360c-4d7e-a43d-d65c5c53697b",
   "metadata": {
    "tags": []
   },
   "outputs": [
    {
     "name": "stdout",
     "output_type": "stream",
     "text": [
      "Train R2: 0.807\n",
      "Test R2: 0.683\n"
     ]
    }
   ],
   "source": [
    "pred_train = tree.predict(X_train)\n",
    "pred_test = tree.predict(X_test)\n",
    "\n",
    "print(f\"Train R2: {r2_score(y_train, pred_train):.3f}\", \n",
    "      f\"Test R2: {r2_score(y_test, pred_test):.3f}\", sep=\"\\n\")"
   ]
  },
  {
   "cell_type": "markdown",
   "id": "177a3d5b-455d-4a74-88c8-8c0a89df6081",
   "metadata": {
    "tags": []
   },
   "source": [
    "## **Data scaling witn MinMaxScaler**"
   ]
  },
  {
   "cell_type": "code",
   "execution_count": 12,
   "id": "5c6250a0-a9b5-4a99-a86e-0df7958d57d6",
   "metadata": {
    "tags": []
   },
   "outputs": [
    {
     "data": {
      "text/html": [
       "<div>\n",
       "<style scoped>\n",
       "    .dataframe tbody tr th:only-of-type {\n",
       "        vertical-align: middle;\n",
       "    }\n",
       "\n",
       "    .dataframe tbody tr th {\n",
       "        vertical-align: top;\n",
       "    }\n",
       "\n",
       "    .dataframe thead th {\n",
       "        text-align: right;\n",
       "    }\n",
       "</style>\n",
       "<table border=\"1\" class=\"dataframe\">\n",
       "  <thead>\n",
       "    <tr style=\"text-align: right;\">\n",
       "      <th></th>\n",
       "      <th>MedInc</th>\n",
       "      <th>HouseAge</th>\n",
       "      <th>AveRooms</th>\n",
       "      <th>AveBedrms</th>\n",
       "      <th>Population</th>\n",
       "      <th>AveOccup</th>\n",
       "      <th>Latitude</th>\n",
       "      <th>Longitude</th>\n",
       "    </tr>\n",
       "  </thead>\n",
       "  <tbody>\n",
       "    <tr>\n",
       "      <th>count</th>\n",
       "      <td>20640.000000</td>\n",
       "      <td>20640.000000</td>\n",
       "      <td>20640.000000</td>\n",
       "      <td>20640.000000</td>\n",
       "      <td>20640.000000</td>\n",
       "      <td>20640.000000</td>\n",
       "      <td>20640.000000</td>\n",
       "      <td>20640.000000</td>\n",
       "    </tr>\n",
       "    <tr>\n",
       "      <th>mean</th>\n",
       "      <td>3.870671</td>\n",
       "      <td>28.639486</td>\n",
       "      <td>5.429000</td>\n",
       "      <td>1.096675</td>\n",
       "      <td>1425.476744</td>\n",
       "      <td>3.070655</td>\n",
       "      <td>35.631861</td>\n",
       "      <td>-119.569704</td>\n",
       "    </tr>\n",
       "    <tr>\n",
       "      <th>std</th>\n",
       "      <td>1.899822</td>\n",
       "      <td>12.585558</td>\n",
       "      <td>2.474173</td>\n",
       "      <td>0.473911</td>\n",
       "      <td>1132.462122</td>\n",
       "      <td>10.386050</td>\n",
       "      <td>2.135952</td>\n",
       "      <td>2.003532</td>\n",
       "    </tr>\n",
       "    <tr>\n",
       "      <th>min</th>\n",
       "      <td>0.499900</td>\n",
       "      <td>1.000000</td>\n",
       "      <td>0.846154</td>\n",
       "      <td>0.333333</td>\n",
       "      <td>3.000000</td>\n",
       "      <td>0.692308</td>\n",
       "      <td>32.540000</td>\n",
       "      <td>-124.350000</td>\n",
       "    </tr>\n",
       "    <tr>\n",
       "      <th>25%</th>\n",
       "      <td>2.563400</td>\n",
       "      <td>18.000000</td>\n",
       "      <td>4.440716</td>\n",
       "      <td>1.006079</td>\n",
       "      <td>787.000000</td>\n",
       "      <td>2.429741</td>\n",
       "      <td>33.930000</td>\n",
       "      <td>-121.800000</td>\n",
       "    </tr>\n",
       "    <tr>\n",
       "      <th>50%</th>\n",
       "      <td>3.534800</td>\n",
       "      <td>29.000000</td>\n",
       "      <td>5.229129</td>\n",
       "      <td>1.048780</td>\n",
       "      <td>1166.000000</td>\n",
       "      <td>2.818116</td>\n",
       "      <td>34.260000</td>\n",
       "      <td>-118.490000</td>\n",
       "    </tr>\n",
       "    <tr>\n",
       "      <th>75%</th>\n",
       "      <td>4.743250</td>\n",
       "      <td>37.000000</td>\n",
       "      <td>6.052381</td>\n",
       "      <td>1.099526</td>\n",
       "      <td>1725.000000</td>\n",
       "      <td>3.282261</td>\n",
       "      <td>37.710000</td>\n",
       "      <td>-118.010000</td>\n",
       "    </tr>\n",
       "    <tr>\n",
       "      <th>max</th>\n",
       "      <td>15.000100</td>\n",
       "      <td>52.000000</td>\n",
       "      <td>141.909091</td>\n",
       "      <td>34.066667</td>\n",
       "      <td>35682.000000</td>\n",
       "      <td>1243.333333</td>\n",
       "      <td>41.950000</td>\n",
       "      <td>-114.310000</td>\n",
       "    </tr>\n",
       "  </tbody>\n",
       "</table>\n",
       "</div>"
      ],
      "text/plain": [
       "             MedInc      HouseAge      AveRooms     AveBedrms    Population   \n",
       "count  20640.000000  20640.000000  20640.000000  20640.000000  20640.000000  \\\n",
       "mean       3.870671     28.639486      5.429000      1.096675   1425.476744   \n",
       "std        1.899822     12.585558      2.474173      0.473911   1132.462122   \n",
       "min        0.499900      1.000000      0.846154      0.333333      3.000000   \n",
       "25%        2.563400     18.000000      4.440716      1.006079    787.000000   \n",
       "50%        3.534800     29.000000      5.229129      1.048780   1166.000000   \n",
       "75%        4.743250     37.000000      6.052381      1.099526   1725.000000   \n",
       "max       15.000100     52.000000    141.909091     34.066667  35682.000000   \n",
       "\n",
       "           AveOccup      Latitude     Longitude  \n",
       "count  20640.000000  20640.000000  20640.000000  \n",
       "mean       3.070655     35.631861   -119.569704  \n",
       "std       10.386050      2.135952      2.003532  \n",
       "min        0.692308     32.540000   -124.350000  \n",
       "25%        2.429741     33.930000   -121.800000  \n",
       "50%        2.818116     34.260000   -118.490000  \n",
       "75%        3.282261     37.710000   -118.010000  \n",
       "max     1243.333333     41.950000   -114.310000  "
      ]
     },
     "execution_count": 12,
     "metadata": {},
     "output_type": "execute_result"
    }
   ],
   "source": [
    "X.describe()"
   ]
  },
  {
   "cell_type": "code",
   "execution_count": 13,
   "id": "5503af60-0cf8-43a4-86b7-31b3d1eb6754",
   "metadata": {
    "tags": []
   },
   "outputs": [],
   "source": [
    "from sklearn.preprocessing import MinMaxScaler\n",
    "\n",
    "mms = MinMaxScaler()\n",
    "mms.fit(X);"
   ]
  },
  {
   "cell_type": "code",
   "execution_count": 14,
   "id": "2a755945-f49f-4a58-97aa-955bcf8cbc48",
   "metadata": {
    "tags": []
   },
   "outputs": [
    {
     "data": {
      "text/plain": [
       "array([ 1.50001000e+01,  5.20000000e+01,  1.41909091e+02,  3.40666667e+01,\n",
       "        3.56820000e+04,  1.24333333e+03,  4.19500000e+01, -1.14310000e+02])"
      ]
     },
     "execution_count": 14,
     "metadata": {},
     "output_type": "execute_result"
    }
   ],
   "source": [
    "mms.data_max_"
   ]
  },
  {
   "cell_type": "code",
   "execution_count": 15,
   "id": "c63dcc5c-b53e-4c4a-a1d6-fa8d1ed0f7ab",
   "metadata": {
    "tags": []
   },
   "outputs": [],
   "source": [
    "import numpy as np\n",
    "np.set_printoptions(suppress=True)"
   ]
  },
  {
   "cell_type": "code",
   "execution_count": 16,
   "id": "f0ace5e8-9d0a-4bca-bd4e-ef2ea1d785db",
   "metadata": {
    "tags": []
   },
   "outputs": [
    {
     "data": {
      "text/plain": [
       "array([   15.0001    ,    52.        ,   141.90909091,    34.06666667,\n",
       "       35682.        ,  1243.33333333,    41.95      ,  -114.31      ])"
      ]
     },
     "execution_count": 16,
     "metadata": {},
     "output_type": "execute_result"
    }
   ],
   "source": [
    "mms.data_max_"
   ]
  },
  {
   "cell_type": "code",
   "execution_count": 17,
   "id": "81c8f1c8-8a7a-4705-b183-c987d6dbde1d",
   "metadata": {
    "tags": []
   },
   "outputs": [
    {
     "data": {
      "text/html": [
       "<div>\n",
       "<style scoped>\n",
       "    .dataframe tbody tr th:only-of-type {\n",
       "        vertical-align: middle;\n",
       "    }\n",
       "\n",
       "    .dataframe tbody tr th {\n",
       "        vertical-align: top;\n",
       "    }\n",
       "\n",
       "    .dataframe thead th {\n",
       "        text-align: right;\n",
       "    }\n",
       "</style>\n",
       "<table border=\"1\" class=\"dataframe\">\n",
       "  <thead>\n",
       "    <tr style=\"text-align: right;\">\n",
       "      <th></th>\n",
       "      <th>MedInc</th>\n",
       "      <th>HouseAge</th>\n",
       "      <th>AveRooms</th>\n",
       "      <th>AveBedrms</th>\n",
       "      <th>Population</th>\n",
       "      <th>AveOccup</th>\n",
       "      <th>Latitude</th>\n",
       "      <th>Longitude</th>\n",
       "    </tr>\n",
       "  </thead>\n",
       "  <tbody>\n",
       "    <tr>\n",
       "      <th>count</th>\n",
       "      <td>20640.000000</td>\n",
       "      <td>20640.000000</td>\n",
       "      <td>20640.000000</td>\n",
       "      <td>20640.000000</td>\n",
       "      <td>20640.000000</td>\n",
       "      <td>20640.000000</td>\n",
       "      <td>20640.000000</td>\n",
       "      <td>20640.000000</td>\n",
       "    </tr>\n",
       "    <tr>\n",
       "      <th>mean</th>\n",
       "      <td>0.232464</td>\n",
       "      <td>0.541951</td>\n",
       "      <td>0.032488</td>\n",
       "      <td>0.022629</td>\n",
       "      <td>0.039869</td>\n",
       "      <td>0.001914</td>\n",
       "      <td>0.328572</td>\n",
       "      <td>0.476125</td>\n",
       "    </tr>\n",
       "    <tr>\n",
       "      <th>std</th>\n",
       "      <td>0.131020</td>\n",
       "      <td>0.246776</td>\n",
       "      <td>0.017539</td>\n",
       "      <td>0.014049</td>\n",
       "      <td>0.031740</td>\n",
       "      <td>0.008358</td>\n",
       "      <td>0.226988</td>\n",
       "      <td>0.199555</td>\n",
       "    </tr>\n",
       "    <tr>\n",
       "      <th>min</th>\n",
       "      <td>0.000000</td>\n",
       "      <td>0.000000</td>\n",
       "      <td>0.000000</td>\n",
       "      <td>0.000000</td>\n",
       "      <td>0.000000</td>\n",
       "      <td>0.000000</td>\n",
       "      <td>0.000000</td>\n",
       "      <td>0.000000</td>\n",
       "    </tr>\n",
       "    <tr>\n",
       "      <th>25%</th>\n",
       "      <td>0.142308</td>\n",
       "      <td>0.333333</td>\n",
       "      <td>0.025482</td>\n",
       "      <td>0.019943</td>\n",
       "      <td>0.021974</td>\n",
       "      <td>0.001398</td>\n",
       "      <td>0.147715</td>\n",
       "      <td>0.253984</td>\n",
       "    </tr>\n",
       "    <tr>\n",
       "      <th>50%</th>\n",
       "      <td>0.209301</td>\n",
       "      <td>0.549020</td>\n",
       "      <td>0.031071</td>\n",
       "      <td>0.021209</td>\n",
       "      <td>0.032596</td>\n",
       "      <td>0.001711</td>\n",
       "      <td>0.182784</td>\n",
       "      <td>0.583665</td>\n",
       "    </tr>\n",
       "    <tr>\n",
       "      <th>75%</th>\n",
       "      <td>0.292641</td>\n",
       "      <td>0.705882</td>\n",
       "      <td>0.036907</td>\n",
       "      <td>0.022713</td>\n",
       "      <td>0.048264</td>\n",
       "      <td>0.002084</td>\n",
       "      <td>0.549416</td>\n",
       "      <td>0.631474</td>\n",
       "    </tr>\n",
       "    <tr>\n",
       "      <th>max</th>\n",
       "      <td>1.000000</td>\n",
       "      <td>1.000000</td>\n",
       "      <td>1.000000</td>\n",
       "      <td>1.000000</td>\n",
       "      <td>1.000000</td>\n",
       "      <td>1.000000</td>\n",
       "      <td>1.000000</td>\n",
       "      <td>1.000000</td>\n",
       "    </tr>\n",
       "  </tbody>\n",
       "</table>\n",
       "</div>"
      ],
      "text/plain": [
       "             MedInc      HouseAge      AveRooms     AveBedrms    Population   \n",
       "count  20640.000000  20640.000000  20640.000000  20640.000000  20640.000000  \\\n",
       "mean       0.232464      0.541951      0.032488      0.022629      0.039869   \n",
       "std        0.131020      0.246776      0.017539      0.014049      0.031740   \n",
       "min        0.000000      0.000000      0.000000      0.000000      0.000000   \n",
       "25%        0.142308      0.333333      0.025482      0.019943      0.021974   \n",
       "50%        0.209301      0.549020      0.031071      0.021209      0.032596   \n",
       "75%        0.292641      0.705882      0.036907      0.022713      0.048264   \n",
       "max        1.000000      1.000000      1.000000      1.000000      1.000000   \n",
       "\n",
       "           AveOccup      Latitude     Longitude  \n",
       "count  20640.000000  20640.000000  20640.000000  \n",
       "mean       0.001914      0.328572      0.476125  \n",
       "std        0.008358      0.226988      0.199555  \n",
       "min        0.000000      0.000000      0.000000  \n",
       "25%        0.001398      0.147715      0.253984  \n",
       "50%        0.001711      0.182784      0.583665  \n",
       "75%        0.002084      0.549416      0.631474  \n",
       "max        1.000000      1.000000      1.000000  "
      ]
     },
     "execution_count": 17,
     "metadata": {},
     "output_type": "execute_result"
    }
   ],
   "source": [
    "X_norm = pd.DataFrame(mms.transform(X), columns=X.columns)\n",
    "X_norm.describe()"
   ]
  },
  {
   "cell_type": "code",
   "execution_count": 18,
   "id": "95ae311e-4aab-46e8-99dd-d1a8a55b23f3",
   "metadata": {
    "tags": []
   },
   "outputs": [
    {
     "data": {
      "image/png": "[encoded data removed]",
      "text/plain": [
       "<Figure size 400x300 with 1 Axes>"
      ]
     },
     "metadata": {},
     "output_type": "display_data"
    }
   ],
   "source": [
    "import matplotlib.pyplot as plt\n",
    "import numpy as np\n",
    "\n",
    "\n",
    "x = np.arange(0, 36000)\n",
    "y = x * 0\n",
    "plt.figure(figsize=(4, 3))\n",
    "plt.plot(x, y)\n",
    "plt.scatter([X_train[\"Population\"].max()], [0], label = \"max train population\", marker=\"*\", c=\"r\", s=100)\n",
    "plt.scatter([X_test[\"Population\"].max()], [0], label = \"max test population\", marker=\"o\", c=\"g\")\n",
    "plt.grid()\n",
    "plt.legend()\n",
    "plt.show();"
   ]
  },
  {
   "cell_type": "code",
   "execution_count": 19,
   "id": "c40b63c7-7b17-47b3-a5f8-5ab86e00c629",
   "metadata": {
    "tags": []
   },
   "outputs": [],
   "source": [
    "mms.fit(X_train);"
   ]
  },
  {
   "cell_type": "code",
   "execution_count": 20,
   "id": "6200204c-679d-4f11-bd7d-dea4ed1e0b04",
   "metadata": {
    "tags": []
   },
   "outputs": [
    {
     "data": {
      "text/plain": [
       "(1.0, 1.2491334943808423)"
      ]
     },
     "execution_count": 20,
     "metadata": {},
     "output_type": "execute_result"
    }
   ],
   "source": [
    "X_train_norm = pd.DataFrame(mms.transform(X_train), columns=X_train.columns)\n",
    "X_test_norm = pd.DataFrame(mms.transform(X_test), columns=X_test.columns)\n",
    "X_train_norm['Population'].max(), X_test_norm['Population'].max()"
   ]
  },
  {
   "cell_type": "code",
   "execution_count": 21,
   "id": "c4441c67-10ba-46e7-ba40-30183f8641b5",
   "metadata": {
    "tags": []
   },
   "outputs": [
    {
     "data": {
      "text/plain": [
       "MedInc           15.000100\n",
       "HouseAge         52.000000\n",
       "AveRooms        141.909091\n",
       "AveBedrms        34.066667\n",
       "Population    28566.000000\n",
       "AveOccup       1243.333333\n",
       "Latitude         41.950000\n",
       "Longitude      -114.310000\n",
       "dtype: float64"
      ]
     },
     "execution_count": 21,
     "metadata": {},
     "output_type": "execute_result"
    }
   ],
   "source": [
    "mins = X_train.min()\n",
    "maxs = X_train.max()\n",
    "maxs"
   ]
  },
  {
   "cell_type": "markdown",
   "id": "4c997ffb-030d-4c0a-bee7-b1e5292bc65a",
   "metadata": {},
   "source": [
    "Проведём нормализацию признаков по формуле: \n",
    "$$x=\\frac{x-min} {max-min}$$"
   ]
  },
  {
   "cell_type": "code",
   "execution_count": 22,
   "id": "25ac659c-9868-44b0-a113-1d07e4fa7ef7",
   "metadata": {
    "tags": []
   },
   "outputs": [],
   "source": [
    "X_train_norm = X_train.copy()\n",
    "X_test_norm = X_test.copy()\n",
    "X_train_norm = (X_train_norm - mins) / (maxs - mins)\n",
    "X_test_norm = (X_test_norm - mins) / (maxs - mins)"
   ]
  },
  {
   "cell_type": "code",
   "execution_count": 23,
   "id": "fd6d7f32-417a-4084-a5b3-4ddd9495fffc",
   "metadata": {
    "tags": []
   },
   "outputs": [
    {
     "data": {
      "text/html": [
       "<div>\n",
       "<style scoped>\n",
       "    .dataframe tbody tr th:only-of-type {\n",
       "        vertical-align: middle;\n",
       "    }\n",
       "\n",
       "    .dataframe tbody tr th {\n",
       "        vertical-align: top;\n",
       "    }\n",
       "\n",
       "    .dataframe thead th {\n",
       "        text-align: right;\n",
       "    }\n",
       "</style>\n",
       "<table border=\"1\" class=\"dataframe\">\n",
       "  <thead>\n",
       "    <tr style=\"text-align: right;\">\n",
       "      <th></th>\n",
       "      <th>MedInc</th>\n",
       "      <th>HouseAge</th>\n",
       "      <th>AveRooms</th>\n",
       "      <th>AveBedrms</th>\n",
       "      <th>Population</th>\n",
       "      <th>AveOccup</th>\n",
       "      <th>Latitude</th>\n",
       "      <th>Longitude</th>\n",
       "    </tr>\n",
       "  </thead>\n",
       "  <tbody>\n",
       "    <tr>\n",
       "      <th>count</th>\n",
       "      <td>16512.000000</td>\n",
       "      <td>16512.000000</td>\n",
       "      <td>16512.000000</td>\n",
       "      <td>16512.000000</td>\n",
       "      <td>16512.000000</td>\n",
       "      <td>16512.000000</td>\n",
       "      <td>16512.000000</td>\n",
       "      <td>16512.000000</td>\n",
       "    </tr>\n",
       "    <tr>\n",
       "      <th>mean</th>\n",
       "      <td>0.232921</td>\n",
       "      <td>0.541644</td>\n",
       "      <td>0.032195</td>\n",
       "      <td>0.022629</td>\n",
       "      <td>0.049968</td>\n",
       "      <td>0.001897</td>\n",
       "      <td>0.327130</td>\n",
       "      <td>0.476913</td>\n",
       "    </tr>\n",
       "    <tr>\n",
       "      <th>std</th>\n",
       "      <td>0.132189</td>\n",
       "      <td>0.247791</td>\n",
       "      <td>0.017910</td>\n",
       "      <td>0.014371</td>\n",
       "      <td>0.039148</td>\n",
       "      <td>0.009333</td>\n",
       "      <td>0.226944</td>\n",
       "      <td>0.199337</td>\n",
       "    </tr>\n",
       "    <tr>\n",
       "      <th>min</th>\n",
       "      <td>0.000000</td>\n",
       "      <td>0.000000</td>\n",
       "      <td>0.000000</td>\n",
       "      <td>0.000000</td>\n",
       "      <td>0.000000</td>\n",
       "      <td>0.000000</td>\n",
       "      <td>0.000000</td>\n",
       "      <td>0.000000</td>\n",
       "    </tr>\n",
       "    <tr>\n",
       "      <th>25%</th>\n",
       "      <td>0.142431</td>\n",
       "      <td>0.333333</td>\n",
       "      <td>0.025236</td>\n",
       "      <td>0.019938</td>\n",
       "      <td>0.027623</td>\n",
       "      <td>0.001358</td>\n",
       "      <td>0.146809</td>\n",
       "      <td>0.254980</td>\n",
       "    </tr>\n",
       "    <tr>\n",
       "      <th>50%</th>\n",
       "      <td>0.209563</td>\n",
       "      <td>0.549020</td>\n",
       "      <td>0.030787</td>\n",
       "      <td>0.021205</td>\n",
       "      <td>0.040857</td>\n",
       "      <td>0.001670</td>\n",
       "      <td>0.180851</td>\n",
       "      <td>0.583665</td>\n",
       "    </tr>\n",
       "    <tr>\n",
       "      <th>75%</th>\n",
       "      <td>0.292693</td>\n",
       "      <td>0.705882</td>\n",
       "      <td>0.036568</td>\n",
       "      <td>0.022721</td>\n",
       "      <td>0.060603</td>\n",
       "      <td>0.002041</td>\n",
       "      <td>0.548936</td>\n",
       "      <td>0.632470</td>\n",
       "    </tr>\n",
       "    <tr>\n",
       "      <th>max</th>\n",
       "      <td>1.000000</td>\n",
       "      <td>1.000000</td>\n",
       "      <td>1.000000</td>\n",
       "      <td>1.000000</td>\n",
       "      <td>1.000000</td>\n",
       "      <td>1.000000</td>\n",
       "      <td>1.000000</td>\n",
       "      <td>1.000000</td>\n",
       "    </tr>\n",
       "  </tbody>\n",
       "</table>\n",
       "</div>"
      ],
      "text/plain": [
       "             MedInc      HouseAge      AveRooms     AveBedrms    Population   \n",
       "count  16512.000000  16512.000000  16512.000000  16512.000000  16512.000000  \\\n",
       "mean       0.232921      0.541644      0.032195      0.022629      0.049968   \n",
       "std        0.132189      0.247791      0.017910      0.014371      0.039148   \n",
       "min        0.000000      0.000000      0.000000      0.000000      0.000000   \n",
       "25%        0.142431      0.333333      0.025236      0.019938      0.027623   \n",
       "50%        0.209563      0.549020      0.030787      0.021205      0.040857   \n",
       "75%        0.292693      0.705882      0.036568      0.022721      0.060603   \n",
       "max        1.000000      1.000000      1.000000      1.000000      1.000000   \n",
       "\n",
       "           AveOccup      Latitude     Longitude  \n",
       "count  16512.000000  16512.000000  16512.000000  \n",
       "mean       0.001897      0.327130      0.476913  \n",
       "std        0.009333      0.226944      0.199337  \n",
       "min        0.000000      0.000000      0.000000  \n",
       "25%        0.001358      0.146809      0.254980  \n",
       "50%        0.001670      0.180851      0.583665  \n",
       "75%        0.002041      0.548936      0.632470  \n",
       "max        1.000000      1.000000      1.000000  "
      ]
     },
     "execution_count": 23,
     "metadata": {},
     "output_type": "execute_result"
    }
   ],
   "source": [
    "X_train_norm.describe()"
   ]
  },
  {
   "cell_type": "markdown",
   "id": "2a72a80c-9274-4301-baac-4e7e985579c7",
   "metadata": {
    "tags": []
   },
   "source": [
    "## **Data scaling with Standart scaler**"
   ]
  },
  {
   "cell_type": "markdown",
   "id": "37d07a24-d689-49cc-a4d7-3f64999a3c4c",
   "metadata": {},
   "source": [
    "$$x=\\frac{x-mean} {std}$$"
   ]
  },
  {
   "cell_type": "code",
   "execution_count": 24,
   "id": "9e0f269a-1964-4f7f-b66b-d698bbe4faaa",
   "metadata": {
    "tags": []
   },
   "outputs": [],
   "source": [
    "from sklearn.preprocessing import StandardScaler\n",
    "\n",
    "scaler = StandardScaler()\n",
    "scaler.fit(X_train);"
   ]
  },
  {
   "cell_type": "code",
   "execution_count": 25,
   "id": "83f2e4f3-c85c-4be8-bccd-ccdd5b19bde7",
   "metadata": {
    "tags": []
   },
   "outputs": [],
   "source": [
    "X_train_norm = pd.DataFrame(scaler.transform(X_train), columns=X_train.columns)\n",
    "X_test_norm = pd.DataFrame(scaler.transform(X_test), columns=X_test.columns)"
   ]
  },
  {
   "cell_type": "markdown",
   "id": "658bc27c-5aad-489b-b07a-149cfb4cbfa9",
   "metadata": {
    "tags": []
   },
   "source": [
    "### **KNNRegessor**"
   ]
  },
  {
   "cell_type": "code",
   "execution_count": 26,
   "id": "bf6b9154-b5de-4743-9bee-e249762310d6",
   "metadata": {
    "tags": []
   },
   "outputs": [],
   "source": [
    "knn.fit(X_train_norm, y_train);"
   ]
  },
  {
   "cell_type": "code",
   "execution_count": 27,
   "id": "f7dbb6a0-391b-4af9-965a-5031db75bc95",
   "metadata": {
    "tags": []
   },
   "outputs": [
    {
     "name": "stdout",
     "output_type": "stream",
     "text": [
      "Train R2: 0.794\n",
      "Test R2: 0.663\n"
     ]
    }
   ],
   "source": [
    "from sklearn.metrics import r2_score\n",
    "\n",
    "pred_train = knn.predict(X_train_norm)\n",
    "pred_test = knn.predict(X_test_norm)\n",
    "\n",
    "print(f\"Train R2: {r2_score(y_train, pred_train):.3f}\", \n",
    "      f\"Test R2: {r2_score(y_test, pred_test):.3f}\", sep=\"\\n\")"
   ]
  },
  {
   "cell_type": "markdown",
   "id": "100411fa-ca3b-4412-9767-fc3f1af634ac",
   "metadata": {},
   "source": [
    "### **Linear regression**"
   ]
  },
  {
   "cell_type": "code",
   "execution_count": 28,
   "id": "3be1cc47-5801-4d8e-980a-3be56a86b15f",
   "metadata": {
    "tags": []
   },
   "outputs": [],
   "source": [
    "lr.fit(X_train_norm, y_train);"
   ]
  },
  {
   "cell_type": "code",
   "execution_count": 29,
   "id": "fc2281e4-56a6-4e5e-a568-76077cde015d",
   "metadata": {
    "tags": []
   },
   "outputs": [
    {
     "name": "stdout",
     "output_type": "stream",
     "text": [
      "Train R2: 0.611\n",
      "Test R2: 0.588\n"
     ]
    }
   ],
   "source": [
    "pred_train = lr.predict(X_train_norm)\n",
    "pred_test = lr.predict(X_test_norm)\n",
    "\n",
    "print(f\"Train R2: {r2_score(y_train, pred_train):.3f}\", \n",
    "      f\"Test R2: {r2_score(y_test, pred_test):.3f}\", sep=\"\\n\")"
   ]
  },
  {
   "cell_type": "markdown",
   "id": "804185d2-8c87-4c33-b99b-e830e2059d7f",
   "metadata": {},
   "source": [
    "### **Decision tree regressor**"
   ]
  },
  {
   "cell_type": "code",
   "execution_count": 30,
   "id": "021a3774-eac9-4028-b0aa-528b45ecdd9e",
   "metadata": {
    "tags": []
   },
   "outputs": [],
   "source": [
    "tree.fit(X_train_norm, y_train);"
   ]
  },
  {
   "cell_type": "code",
   "execution_count": 31,
   "id": "e36e2774-6dd5-45b4-9abf-183fada24e31",
   "metadata": {
    "tags": []
   },
   "outputs": [
    {
     "name": "stdout",
     "output_type": "stream",
     "text": [
      "Train R2: 0.807\n",
      "Test R2: 0.683\n"
     ]
    }
   ],
   "source": [
    "pred_train = tree.predict(X_train_norm)\n",
    "pred_test = tree.predict(X_test_norm)\n",
    "\n",
    "print(f\"Train R2: {r2_score(y_train, pred_train):.3f}\", \n",
    "      f\"Test R2: {r2_score(y_test, pred_test):.3f}\", sep=\"\\n\")"
   ]
  },
  {
   "cell_type": "markdown",
   "id": "e787a881-d19a-4f14-9fa1-3164d8ca3c7c",
   "metadata": {
    "tags": []
   },
   "source": [
    "## **Summary**"
   ]
  },
  {
   "cell_type": "markdown",
   "id": "1dfac082-5121-49ab-9967-e80f3f9cf9ba",
   "metadata": {},
   "source": [
    "Data scaling is good only for KN Regression, for linear regression and decision trees it does not matter on which data values they are trained."
   ]
  },
  {
   "cell_type": "markdown",
   "id": "91a61f6e-6c25-4675-a4ec-882ad9ff21e2",
   "metadata": {},
   "source": [
    "MinMaxScaler:\n",
    "$$x=\\frac{x-min} {max-min}$$"
   ]
  },
  {
   "cell_type": "markdown",
   "id": "c7bdbaec-0d48-4f3a-a5fc-be8fabc83392",
   "metadata": {},
   "source": [
    "StandartScaler:\n",
    "$$x=\\frac{x-mean} {std}$$"
   ]
  }
 ],
 "metadata": {
  "kernelspec": {
   "display_name": "Python 3 (ipykernel)",
   "language": "python",
   "name": "python3"
  },
  "language_info": {
   "codemirror_mode": {
    "name": "ipython",
    "version": 3
   },
   "file_extension": ".py",
   "mimetype": "text/x-python",
   "name": "python",
   "nbconvert_exporter": "python",
   "pygments_lexer": "ipython3",
   "version": "3.10.6"
  }
 },
 "nbformat": 4,
 "nbformat_minor": 5
}
